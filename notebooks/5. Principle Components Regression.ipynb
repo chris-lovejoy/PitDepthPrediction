{
 "cells": [
  {
   "cell_type": "code",
   "execution_count": 1,
   "metadata": {},
   "outputs": [],
   "source": [
    "import os\n",
    "import sys\n",
    "sys.path.insert(0,os.path.dirname(os.getcwd()))\n",
    "import math\n",
    "import pandas as pd\n",
    "import numpy as np\n",
    "import matplotlib.pyplot as plt \n",
    "\n",
    "from sklearn.decomposition import PCA\n",
    "from sklearn.preprocessing import scale \n",
    "from sklearn import model_selection\n",
    "from sklearn.linear_model import LinearRegression, Ridge, Lasso\n",
    "from sklearn.model_selection import cross_val_score\n",
    "\n",
    "import src.models.modeling_pipeline as mp\n",
    "import src.models.train_model as tm"
   ]
  },
  {
   "cell_type": "code",
   "execution_count": 2,
   "metadata": {},
   "outputs": [
    {
     "data": {
      "text/html": [
       "<div>\n",
       "<style scoped>\n",
       "    .dataframe tbody tr th:only-of-type {\n",
       "        vertical-align: middle;\n",
       "    }\n",
       "\n",
       "    .dataframe tbody tr th {\n",
       "        vertical-align: top;\n",
       "    }\n",
       "\n",
       "    .dataframe thead th {\n",
       "        text-align: right;\n",
       "    }\n",
       "</style>\n",
       "<table border=\"1\" class=\"dataframe\">\n",
       "  <thead>\n",
       "    <tr style=\"text-align: right;\">\n",
       "      <th></th>\n",
       "      <th>Tube_Alias</th>\n",
       "      <th>Flaw_ID</th>\n",
       "      <th>Angle</th>\n",
       "      <th>Amp_1</th>\n",
       "      <th>Amp_2</th>\n",
       "      <th>Amp_3</th>\n",
       "      <th>Amp_4</th>\n",
       "      <th>Amp_5</th>\n",
       "      <th>Amp_6</th>\n",
       "      <th>Amp_7</th>\n",
       "      <th>...</th>\n",
       "      <th>AB_Ratio_15</th>\n",
       "      <th>AB_Ratio_16</th>\n",
       "      <th>AB_Ratio_17</th>\n",
       "      <th>AB_Ratio_18</th>\n",
       "      <th>AB_Ratio_19</th>\n",
       "      <th>AB_Ratio_20</th>\n",
       "      <th>Flaw_Depth</th>\n",
       "      <th>Pct_Depth</th>\n",
       "      <th>Flaw_Volume</th>\n",
       "      <th>Flaw_Area</th>\n",
       "    </tr>\n",
       "  </thead>\n",
       "  <tbody>\n",
       "    <tr>\n",
       "      <th>0</th>\n",
       "      <td>AP01</td>\n",
       "      <td>A</td>\n",
       "      <td>0</td>\n",
       "      <td>12.158630</td>\n",
       "      <td>17.616182</td>\n",
       "      <td>19.507299</td>\n",
       "      <td>12.688417</td>\n",
       "      <td>28.611131</td>\n",
       "      <td>23.380270</td>\n",
       "      <td>44.989959</td>\n",
       "      <td>...</td>\n",
       "      <td>1.956307</td>\n",
       "      <td>3.275930</td>\n",
       "      <td>1.817514</td>\n",
       "      <td>0.777416</td>\n",
       "      <td>0.866272</td>\n",
       "      <td>1.733430</td>\n",
       "      <td>0.076</td>\n",
       "      <td>10.3</td>\n",
       "      <td>0.864</td>\n",
       "      <td>11.3288</td>\n",
       "    </tr>\n",
       "    <tr>\n",
       "      <th>1</th>\n",
       "      <td>AP01</td>\n",
       "      <td>A</td>\n",
       "      <td>10</td>\n",
       "      <td>12.662390</td>\n",
       "      <td>13.679878</td>\n",
       "      <td>19.669931</td>\n",
       "      <td>14.483477</td>\n",
       "      <td>28.351937</td>\n",
       "      <td>18.583178</td>\n",
       "      <td>42.755353</td>\n",
       "      <td>...</td>\n",
       "      <td>1.985838</td>\n",
       "      <td>3.756354</td>\n",
       "      <td>1.795074</td>\n",
       "      <td>0.837584</td>\n",
       "      <td>0.896130</td>\n",
       "      <td>1.501476</td>\n",
       "      <td>0.076</td>\n",
       "      <td>10.3</td>\n",
       "      <td>0.864</td>\n",
       "      <td>11.3288</td>\n",
       "    </tr>\n",
       "    <tr>\n",
       "      <th>2</th>\n",
       "      <td>AP01</td>\n",
       "      <td>A</td>\n",
       "      <td>20</td>\n",
       "      <td>10.256701</td>\n",
       "      <td>13.404310</td>\n",
       "      <td>15.955676</td>\n",
       "      <td>13.250621</td>\n",
       "      <td>25.169557</td>\n",
       "      <td>18.774754</td>\n",
       "      <td>38.196417</td>\n",
       "      <td>...</td>\n",
       "      <td>1.938655</td>\n",
       "      <td>3.089216</td>\n",
       "      <td>1.856828</td>\n",
       "      <td>0.856594</td>\n",
       "      <td>0.853804</td>\n",
       "      <td>1.686915</td>\n",
       "      <td>0.076</td>\n",
       "      <td>10.3</td>\n",
       "      <td>0.864</td>\n",
       "      <td>11.3288</td>\n",
       "    </tr>\n",
       "    <tr>\n",
       "      <th>3</th>\n",
       "      <td>AP01</td>\n",
       "      <td>A</td>\n",
       "      <td>30</td>\n",
       "      <td>9.885306</td>\n",
       "      <td>8.746499</td>\n",
       "      <td>15.840469</td>\n",
       "      <td>16.280198</td>\n",
       "      <td>20.803812</td>\n",
       "      <td>19.185067</td>\n",
       "      <td>31.785403</td>\n",
       "      <td>...</td>\n",
       "      <td>1.932763</td>\n",
       "      <td>3.235533</td>\n",
       "      <td>1.879336</td>\n",
       "      <td>0.891017</td>\n",
       "      <td>0.882775</td>\n",
       "      <td>1.764685</td>\n",
       "      <td>0.076</td>\n",
       "      <td>10.3</td>\n",
       "      <td>0.864</td>\n",
       "      <td>11.3288</td>\n",
       "    </tr>\n",
       "    <tr>\n",
       "      <th>4</th>\n",
       "      <td>AP01</td>\n",
       "      <td>A</td>\n",
       "      <td>40</td>\n",
       "      <td>10.595372</td>\n",
       "      <td>13.148400</td>\n",
       "      <td>14.767161</td>\n",
       "      <td>13.241353</td>\n",
       "      <td>22.418596</td>\n",
       "      <td>17.189801</td>\n",
       "      <td>36.666878</td>\n",
       "      <td>...</td>\n",
       "      <td>1.895807</td>\n",
       "      <td>2.851098</td>\n",
       "      <td>1.837718</td>\n",
       "      <td>0.747698</td>\n",
       "      <td>0.844795</td>\n",
       "      <td>1.887925</td>\n",
       "      <td>0.076</td>\n",
       "      <td>10.3</td>\n",
       "      <td>0.864</td>\n",
       "      <td>11.3288</td>\n",
       "    </tr>\n",
       "  </tbody>\n",
       "</table>\n",
       "<p>5 rows × 107 columns</p>\n",
       "</div>"
      ],
      "text/plain": [
       "  Tube_Alias Flaw_ID  Angle      Amp_1      Amp_2      Amp_3      Amp_4  \\\n",
       "0       AP01       A      0  12.158630  17.616182  19.507299  12.688417   \n",
       "1       AP01       A     10  12.662390  13.679878  19.669931  14.483477   \n",
       "2       AP01       A     20  10.256701  13.404310  15.955676  13.250621   \n",
       "3       AP01       A     30   9.885306   8.746499  15.840469  16.280198   \n",
       "4       AP01       A     40  10.595372  13.148400  14.767161  13.241353   \n",
       "\n",
       "       Amp_5      Amp_6      Amp_7  ...  AB_Ratio_15  AB_Ratio_16  \\\n",
       "0  28.611131  23.380270  44.989959  ...     1.956307     3.275930   \n",
       "1  28.351937  18.583178  42.755353  ...     1.985838     3.756354   \n",
       "2  25.169557  18.774754  38.196417  ...     1.938655     3.089216   \n",
       "3  20.803812  19.185067  31.785403  ...     1.932763     3.235533   \n",
       "4  22.418596  17.189801  36.666878  ...     1.895807     2.851098   \n",
       "\n",
       "   AB_Ratio_17  AB_Ratio_18  AB_Ratio_19  AB_Ratio_20  Flaw_Depth  Pct_Depth  \\\n",
       "0     1.817514     0.777416     0.866272     1.733430       0.076       10.3   \n",
       "1     1.795074     0.837584     0.896130     1.501476       0.076       10.3   \n",
       "2     1.856828     0.856594     0.853804     1.686915       0.076       10.3   \n",
       "3     1.879336     0.891017     0.882775     1.764685       0.076       10.3   \n",
       "4     1.837718     0.747698     0.844795     1.887925       0.076       10.3   \n",
       "\n",
       "   Flaw_Volume  Flaw_Area  \n",
       "0        0.864    11.3288  \n",
       "1        0.864    11.3288  \n",
       "2        0.864    11.3288  \n",
       "3        0.864    11.3288  \n",
       "4        0.864    11.3288  \n",
       "\n",
       "[5 rows x 107 columns]"
      ]
     },
     "execution_count": 2,
     "metadata": {},
     "output_type": "execute_result"
    }
   ],
   "source": [
    "# Select the data file to use\n",
    "filename = os.path.join(os.path.dirname(os.getcwd()), 'data','interim','full_feature_data.csv')\n",
    "# filename = os.path.join(os.path.dirname(os.getcwd()), 'data','interim','full_feature_cg_data.csv')\n",
    "\n",
    "df = pd.read_csv(filename)\n",
    "df.head()"
   ]
  },
  {
   "cell_type": "markdown",
   "metadata": {},
   "source": [
    "## Step 1: Create PCA components, and decide how many components to include in further model training"
   ]
  },
  {
   "cell_type": "code",
   "execution_count": 3,
   "metadata": {},
   "outputs": [],
   "source": [
    "common_columns = ['Tube_Alias','Flaw_ID', 'Angle','Flaw_Depth']\n",
    "\n",
    "# Create pca components\n",
    "amp_features = []\n",
    "phase_features = []\n",
    "ab_ratio_features = []\n",
    "a_features = []\n",
    "b_features = []\n",
    "\n",
    "for i in range(1,21):\n",
    "    amp_features.append(f'Amp_{i}')\n",
    "    phase_features.append(f'Phase_{i}')\n",
    "    ab_ratio_features.append(f'AB_Ratio_{i}')\n",
    "    a_features.append(f'A_Value_{i}')\n",
    "    b_features.append(f'B_Value_{i}')\n",
    "    \n",
    "# Creating dataframes of PCA components for each feature\n",
    "pca = PCA()\n",
    "pca_amp = PCA()\n",
    "pca_phase = PCA()\n",
    "pca_ab = PCA()\n",
    "pca_a = PCA()\n",
    "pca_b = PCA()\n",
    "X_all_reduced_train = pca.fit_transform(scale(df.drop(common_columns, axis=1))) \n",
    "X_amp_reduced_train = pca_amp.fit_transform(scale(df[amp_features]))\n",
    "X_phase_reduced_train = pca_phase.fit_transform(scale(df[phase_features]))\n",
    "X_AB_reduced_train = pca_ab.fit_transform(scale(df[ab_ratio_features]))\n",
    "X_A_reduced_train = pca_a.fit_transform(scale(df[a_features]))\n",
    "X_B_reduced_train = pca_b.fit_transform(scale(df[b_features]))\n"
   ]
  },
  {
   "cell_type": "code",
   "execution_count": 4,
   "metadata": {},
   "outputs": [],
   "source": [
    "feature_list = mp.find_features(df, ['PCA'])\n",
    "y_feature = 'Flaw_Depth'"
   ]
  },
  {
   "cell_type": "code",
   "execution_count": 5,
   "metadata": {},
   "outputs": [],
   "source": [
    "# DECIDE WHICH COMPONENTS TO INCLUDE \n",
    "\n",
    "# # Components using all three feature types together\n",
    "X_reduced_train = X_all_reduced_train\n",
    "pca = pca\n",
    "\n",
    "## Components for amplitude\n",
    "# X_reduced_train = X_amp_reduced_train\n",
    "# pca = pca_amp\n",
    "\n",
    "## Components for phase\n",
    "# X_reduced_train = X_phase_reduced_train\n",
    "# pca = pca_phase\n",
    "\n",
    "# # Components for AB ratio\n",
    "# X_reduced_train =  X_AB_reduced_train\n",
    "# pca = pca_ab\n",
    "\n",
    "# # Components for A value\n",
    "# X_reduced_train =  X_A_reduced_train\n",
    "# pca = pca_a\n",
    "\n",
    "# # Components for B value\n",
    "# X_reduced_train =  X_B_reduced_train\n",
    "# pca = pca_b\n"
   ]
  },
  {
   "cell_type": "code",
   "execution_count": 6,
   "metadata": {},
   "outputs": [],
   "source": [
    "m = len(X_reduced_train)\n",
    "kf_5 = model_selection.KFold(n_splits=5, shuffle=True, random_state=1)\n",
    "\n",
    "# Decide method of regression - COMMENT OUT FOR SELECTION\n",
    "regr = LinearRegression()\n",
    "# regr = Ridge()\n",
    "# regr = Lasso(alpha=0.1)\n",
    "\n",
    "mse = []\n",
    "\n",
    "# Calculate MSE with only the intercept (no principal components in regression)\n",
    "score = -1*model_selection.cross_val_score(regr, np.ones((m,1)), df[y_feature].ravel(), cv=kf_5, \n",
    "                                        scoring='neg_mean_squared_error').mean()    \n",
    "mse.append(score)"
   ]
  },
  {
   "cell_type": "code",
   "execution_count": 7,
   "metadata": {},
   "outputs": [],
   "source": [
    "# calculate MSE for increasing numbers of components\n",
    "for i in np.arange(1, 20):\n",
    "    score = -1*model_selection.cross_val_score(regr, X_reduced_train[:,:i], df[y_feature].ravel(), cv=kf_5, \n",
    "                                               scoring='neg_mean_squared_error').mean()\n",
    "    mse.append(score)"
   ]
  },
  {
   "cell_type": "code",
   "execution_count": 8,
   "metadata": {},
   "outputs": [
    {
     "data": {
      "image/png": "[encoded data removed]",
      "text/plain": [
       "<Figure size 432x288 with 1 Axes>"
      ]
     },
     "metadata": {
      "needs_background": "light"
     },
     "output_type": "display_data"
    }
   ],
   "source": [
    "# Plot MSE\n",
    "plt.plot(mse, '-v')\n",
    "plt.xlabel('Number of principal components in regression')\n",
    "plt.ylabel('MSE')\n",
    "plt.title('MSE per number of components used')\n",
    "plt.xlim(xmin=-1);"
   ]
  },
  {
   "cell_type": "code",
   "execution_count": 9,
   "metadata": {},
   "outputs": [
    {
     "data": {
      "text/plain": [
       "array([61.77, 82.21, 87.35, 89.74, 91.05, 92.18, 93.03, 93.73, 94.33,\n",
       "       94.88, 95.38, 95.85, 96.29, 96.68, 96.99, 97.27, 97.54, 97.76,\n",
       "       97.96, 98.15, 98.32, 98.48, 98.63, 98.76, 98.89, 99.01, 99.12,\n",
       "       99.22, 99.32, 99.4 , 99.48, 99.55, 99.62, 99.68, 99.73, 99.77,\n",
       "       99.81, 99.84, 99.86, 99.88, 99.9 , 99.92, 99.93, 99.94, 99.95,\n",
       "       99.96, 99.97, 99.98, 99.98, 99.98, 99.98, 99.98, 99.98, 99.98,\n",
       "       99.98, 99.98, 99.98, 99.98, 99.98, 99.98, 99.98, 99.98, 99.98,\n",
       "       99.98, 99.98, 99.98, 99.98, 99.98, 99.98, 99.98, 99.98, 99.98,\n",
       "       99.98, 99.98, 99.98, 99.98, 99.98, 99.98, 99.98, 99.98, 99.98,\n",
       "       99.98, 99.98, 99.98, 99.98, 99.98, 99.98, 99.98, 99.98, 99.98,\n",
       "       99.98, 99.98, 99.98, 99.98, 99.98, 99.98, 99.98, 99.98, 99.98,\n",
       "       99.98, 99.98, 99.98, 99.98])"
      ]
     },
     "execution_count": 9,
     "metadata": {},
     "output_type": "execute_result"
    }
   ],
   "source": [
    "# View the amount of variance explained by adding consecutive components\n",
    "np.cumsum(np.round(pca.explained_variance_ratio_, decimals=4)*100)\n"
   ]
  },
  {
   "cell_type": "markdown",
   "metadata": {},
   "source": [
    "### By analysing the mse for each additional components, for each dataset, we concluded that the best number of components to use were: \n",
    "\n",
    "\n",
    "**full_feature_cg_data:**\n",
    "- Amplitude: 99% of the variance has been explained within the first four components\n",
    "- Phase: The elbnow of the MSE performance is seen 6 or 7 components, where typically around **88%** of the variance is explained at this point. Gradual improvement is seen up to around 16 components, where 99% of variance is explained\n",
    "- AB_ratio: The elbow is around 4 or 5 components, where typically **93-94%** of variance has been explained. This then continues to graudally improve with more components.\n",
    "- If feeding all three features together into PCa together, then most variance is explained by 7-8 components.\n",
    "\n",
    "\n",
    "**full_feature_data:**\n",
    "- Amplitude: The majority of the variance is explained within the first two components\n",
    "- Phase: The elbnow of the MSE performance is seen 6 or 7 components, where typically around **85%** of the variance is explained at this point. Gradual improvement is seen up to around 16 components, where 99% of variance is explained\n",
    "- AB_ratio: The elbow is around 4 or 5 components, where typically **94-95%** of variance has been explained. This then continues to graudally improve with more components.\n",
    "\n",
    "\n",
    "### THEREFORE, for our validation (aka test) set, we will use:\n",
    "- **3 components** from aplitude\n",
    "- **7 components** from phase\n",
    "- **5 components** from AB_ratio\n",
    "- For PCA components extracted from all features simultaneously, we will use **8 components**\n",
    "\n",
    "And will test different combinations of these components to assess their performance\n"
   ]
  },
  {
   "cell_type": "markdown",
   "metadata": {},
   "source": [
    "## Step 2: Create final model using selected number of PCA features"
   ]
  },
  {
   "cell_type": "code",
   "execution_count": 10,
   "metadata": {},
   "outputs": [],
   "source": [
    "# Define columns for PCA\n",
    "pca_amp_features = []\n",
    "pca_phase_features = []\n",
    "pca_ab_ratio_features = []\n",
    "\n",
    "for i in range(1,21):\n",
    "    pca_amp_features.append(f'PCA_Amp_{i}')\n",
    "    pca_phase_features.append(f'PCA_Phase_{i}')\n",
    "    pca_ab_ratio_features.append(f'PCA_AB_Ratio_{i}')\n",
    "\n",
    "# Create dataframes for different PCA components\n",
    "X_amp_reduced_train = pd.DataFrame(pca_amp.fit_transform(scale(df[amp_features])),columns=pca_amp_features)\n",
    "X_phase_reduced_train = pd.DataFrame(pca_phase.fit_transform(scale(df[phase_features])),columns=pca_phase_features)\n",
    "X_AB_reduced_train = pd.DataFrame(pca_ab.fit_transform(scale(df[ab_ratio_features])),columns=pca_ab_ratio_features)\n",
    "\n",
    "# Selecting and adding the top numbers of PCA components, as per EDA above\n",
    "df_train = pd.concat([df,X_amp_reduced_train.iloc[:,:3],X_phase_reduced_train.iloc[:,:7],\n",
    "                X_AB_reduced_train.iloc[:,:5]], axis=1)\n",
    "\n",
    "# PCA components to include in model\n",
    "selected_PCA_components = pca_amp_features[:3] + pca_phase_features[:7] + pca_ab_ratio_features[:5]"
   ]
  },
  {
   "cell_type": "code",
   "execution_count": 11,
   "metadata": {},
   "outputs": [
    {
     "name": "stdout",
     "output_type": "stream",
     "text": [
      "Average CV RMSE:  0.05856497075834336\n"
     ]
    }
   ],
   "source": [
    "groups_labels = tm.generate_groups(df_train)\n",
    "no_folds = 5\n",
    "gkf = tm.generate_groupcv_object(df_train[selected_PCA_components], df_train[y_feature], groups_labels, no_folds)\n",
    "\n",
    "# regr = LinearRegression()\n",
    "regr = Ridge()\n",
    "# regr = Lasso(alpha=0.1)\n",
    "\n",
    "cv_mse = cross_val_score(regr, df_train[selected_PCA_components], df_train[y_feature], cv = gkf, scoring='neg_mean_squared_error')\n",
    "cv_rmse = np.sqrt(abs(cv_mse).mean())\n",
    "print(\"Average CV RMSE: \", cv_rmse)"
   ]
  },
  {
   "cell_type": "markdown",
   "metadata": {},
   "source": [
    "## Step 3: Make predictions on test set\n"
   ]
  },
  {
   "cell_type": "code",
   "execution_count": 12,
   "metadata": {},
   "outputs": [],
   "source": [
    "filename = os.path.join(os.path.dirname(os.getcwd()), 'data','interim','full_feature_test_data.csv')\n",
    "test_df = pd.read_csv(filename)\n",
    "# test_predictions = predict_regclas_model(test_df, feature_list, feature_list, y_feature, model_lasso, rf)\n",
    "\n"
   ]
  },
  {
   "cell_type": "code",
   "execution_count": 13,
   "metadata": {},
   "outputs": [],
   "source": [
    "X_amp_reduced_train = pd.DataFrame(pca_amp.fit_transform(scale(test_df[amp_features])),columns=pca_amp_features)\n",
    "X_phase_reduced_train = pd.DataFrame(pca_phase.fit_transform(scale(test_df[phase_features])),columns=pca_phase_features)\n",
    "X_AB_reduced_train = pd.DataFrame(pca_ab.fit_transform(scale(test_df[ab_ratio_features])),columns=pca_ab_ratio_features)\n",
    "\n",
    "# Selecting and adding the top numbers of PCA components, as per EDA in notebook 9\n",
    "test_df = pd.concat([test_df,X_amp_reduced_train.iloc[:,:3],X_phase_reduced_train.iloc[:,:7],\n",
    "                X_AB_reduced_train.iloc[:,:5]], axis=1)\n"
   ]
  },
  {
   "cell_type": "code",
   "execution_count": 14,
   "metadata": {},
   "outputs": [],
   "source": [
    "regr.fit(df_train[selected_PCA_components], df_train[y_feature])\n",
    "\n",
    "reg_prediction = regr.predict(test_df[selected_PCA_components])"
   ]
  },
  {
   "cell_type": "code",
   "execution_count": null,
   "metadata": {},
   "outputs": [],
   "source": [
    "pd.DataFrame(reg_prediction).to_csv('pca_predictions.csv')"
   ]
  }
 ],
 "metadata": {
  "kernelspec": {
   "display_name": "Python 3",
   "language": "python",
   "name": "python3"
  },
  "language_info": {
   "codemirror_mode": {
    "name": "ipython",
    "version": 3
   },
   "file_extension": ".py",
   "mimetype": "text/x-python",
   "name": "python",
   "nbconvert_exporter": "python",
   "pygments_lexer": "ipython3",
   "version": "3.7.3"
  }
 },
 "nbformat": 4,
 "nbformat_minor": 4
}
