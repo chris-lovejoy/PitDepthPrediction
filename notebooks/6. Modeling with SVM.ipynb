{
 "cells": [
  {
   "cell_type": "markdown",
   "metadata": {},
   "source": [
    "# Fitting SVM Models"
   ]
  },
  {
   "cell_type": "markdown",
   "metadata": {},
   "source": [
    "##### import statements"
   ]
  },
  {
   "cell_type": "code",
   "execution_count": 2,
   "metadata": {},
   "outputs": [],
   "source": [
    "import os\n",
    "import pandas as pd\n",
    "import sys\n",
    "sys.path.insert(0, os.path.join(os.path.dirname(os.getcwd()), 'src'))\n",
    "import models.svm_modeling as msm"
   ]
  },
  {
   "cell_type": "markdown",
   "metadata": {},
   "source": [
    "##### read in the data"
   ]
  },
  {
   "cell_type": "code",
   "execution_count": 3,
   "metadata": {},
   "outputs": [],
   "source": [
    "df = pd.read_csv(os.path.join(os.path.dirname(os.getcwd()),'data','interim', 'full_feature_data.csv'))"
   ]
  },
  {
   "cell_type": "markdown",
   "metadata": {},
   "source": [
    "### The `svm_model` function provides a flexible way of fitting data to a range of models. It takes three required arguments: *df* (your dataframe), *model* (a short string of the model name), and *features* (either a list of features, a list of feature prefixes, or *'all'* to specify all features). Additionally, it takes two optional arguments, each of which has a default value: *features_provided* (default=False; change only if providing a pre-selected list of features) and *y* (default='Flaw_Depth'; can specify a different value as your y value)."
   ]
  },
  {
   "cell_type": "markdown",
   "metadata": {},
   "source": [
    "### This function uses `GridSearchCV` from sci-kit learn to optimize hyperparameters, one of which is *kernel*. The '*rbf*' and '*linear*' kernels consistently performed  the best. If you would like to consider both during model fitting, simply use *'svm'* as the model argument."
   ]
  },
  {
   "cell_type": "markdown",
   "metadata": {},
   "source": [
    "### Run the cell below for an example. This will return a GridSearchCV model object, which contains considerable information regarding the model fit and can be used to make predictions. The function will also return a scaler object (more on that later). Please note that the grid search process may take a minute or two."
   ]
  },
  {
   "cell_type": "code",
   "execution_count": 4,
   "metadata": {},
   "outputs": [
    {
     "name": "stdout",
     "output_type": "stream",
     "text": [
      "Fitting 5 folds for each of 24 candidates, totalling 120 fits\n"
     ]
    },
    {
     "name": "stderr",
     "output_type": "stream",
     "text": [
      "[Parallel(n_jobs=1)]: Using backend SequentialBackend with 1 concurrent workers.\n",
      "[Parallel(n_jobs=1)]: Done 120 out of 120 | elapsed:  1.5min finished\n"
     ]
    },
    {
     "name": "stdout",
     "output_type": "stream",
     "text": [
      "Fitting complete!\n"
     ]
    }
   ],
   "source": [
    "model, scaler = msm.svm_model(df=df, model='svm', features='all')"
   ]
  },
  {
   "cell_type": "code",
   "execution_count": 5,
   "metadata": {},
   "outputs": [
    {
     "name": "stdout",
     "output_type": "stream",
     "text": [
      "The best hyperparamers were {'C': 0.1, 'gamma': 0.0001, 'kernel': 'linear'}\n"
     ]
    }
   ],
   "source": [
    "print(\"The best hyperparamers were {}\".format(model.best_params_))"
   ]
  },
  {
   "cell_type": "code",
   "execution_count": 6,
   "metadata": {},
   "outputs": [
    {
     "name": "stdout",
     "output_type": "stream",
     "text": [
      "The best RMSE value was 0.053667248496671614\n"
     ]
    }
   ],
   "source": [
    "print(\"The best RMSE value was {}\".format(abs(model.best_score_)))"
   ]
  },
  {
   "cell_type": "markdown",
   "metadata": {},
   "source": [
    "### You could also run the same model, but only conisder one kernel. To do this, set model to either '*svm_lin*' or '*svm_rbf*'."
   ]
  },
  {
   "cell_type": "code",
   "execution_count": 7,
   "metadata": {},
   "outputs": [
    {
     "name": "stdout",
     "output_type": "stream",
     "text": [
      "Fitting 5 folds for each of 3 candidates, totalling 15 fits\n"
     ]
    },
    {
     "name": "stderr",
     "output_type": "stream",
     "text": [
      "[Parallel(n_jobs=1)]: Using backend SequentialBackend with 1 concurrent workers.\n",
      "[Parallel(n_jobs=1)]: Done  15 out of  15 | elapsed:   15.4s finished\n"
     ]
    },
    {
     "name": "stdout",
     "output_type": "stream",
     "text": [
      "Fitting complete!\n"
     ]
    }
   ],
   "source": [
    "model_svm_lin, scaler = msm.svm_model(df=df, model='svm_lin', features='all')"
   ]
  },
  {
   "cell_type": "code",
   "execution_count": 8,
   "metadata": {},
   "outputs": [
    {
     "name": "stdout",
     "output_type": "stream",
     "text": [
      "The best hyperparamers were {'C': 0.1}\n"
     ]
    }
   ],
   "source": [
    "print(\"The best hyperparamers were {}\".format(model_svm_lin.best_params_))"
   ]
  },
  {
   "cell_type": "code",
   "execution_count": 9,
   "metadata": {},
   "outputs": [
    {
     "name": "stdout",
     "output_type": "stream",
     "text": [
      "The best RMSE value was 0.053667248496671614\n"
     ]
    }
   ],
   "source": [
    "print(\"The best RMSE value was {}\".format(abs(model_svm_lin.best_score_)))"
   ]
  },
  {
   "cell_type": "markdown",
   "metadata": {},
   "source": [
    "### If you only wanted to use a subset of parameters, e.g., all phase values, you could pass a list of feature prefixes to the features argument. For example, `features=['Amp', 'Phase']`, `features=['AB']`, `features=['A_', 'B_', 'AB']`, etc."
   ]
  },
  {
   "cell_type": "code",
   "execution_count": 10,
   "metadata": {},
   "outputs": [
    {
     "name": "stdout",
     "output_type": "stream",
     "text": [
      "Fitting 5 folds for each of 3 candidates, totalling 15 fits\n"
     ]
    },
    {
     "name": "stderr",
     "output_type": "stream",
     "text": [
      "[Parallel(n_jobs=1)]: Using backend SequentialBackend with 1 concurrent workers.\n",
      "[Parallel(n_jobs=1)]: Done  15 out of  15 | elapsed:   29.1s finished\n"
     ]
    },
    {
     "name": "stdout",
     "output_type": "stream",
     "text": [
      "Fitting complete!\n"
     ]
    }
   ],
   "source": [
    "model_AB, scaler = msm.svm_model(df=df, model='svm_lin', features=['AB'])"
   ]
  },
  {
   "cell_type": "code",
   "execution_count": 11,
   "metadata": {},
   "outputs": [
    {
     "name": "stdout",
     "output_type": "stream",
     "text": [
      "The best hyperparamers were {'C': 0.1}\n"
     ]
    }
   ],
   "source": [
    "print(\"The best hyperparamers were {}\".format(model_svm_lin.best_params_))"
   ]
  },
  {
   "cell_type": "code",
   "execution_count": 12,
   "metadata": {},
   "outputs": [
    {
     "name": "stdout",
     "output_type": "stream",
     "text": [
      "The best RMSE value was 0.053667248496671614\n"
     ]
    }
   ],
   "source": [
    "print(\"The best RMSE value was {}\".format(abs(model_svm_lin.best_score_)))"
   ]
  },
  {
   "cell_type": "markdown",
   "metadata": {},
   "source": [
    "### If a subset of features has already been selected, that can be passed as a list to the features argument. For example, below is the list of features identified by lasso regression."
   ]
  },
  {
   "cell_type": "code",
   "execution_count": 13,
   "metadata": {},
   "outputs": [],
   "source": [
    "feature_list = ['Amp_5', 'Amp_7', 'Amp_18', 'Amp_20', 'Phase_1', 'Phase_2', 'Phase_3', 'Phase_4', 'Phase_5', 'Phase_6',\n",
    "            'Phase_8', 'Phase_10', 'Phase_11', 'Phase_12', 'Phase_13', 'Phase_14', 'Phase_15', 'Phase_16', 'Phase_17',\n",
    "            'Phase_18', 'Phase_19', 'Phase_20', 'A_Value_1', 'A_Value_6', 'A_Value_10', 'A_Value_19', 'B_Value_4', \n",
    "            'B_Value_6', 'B_Value_12', 'B_Value_15', 'B_Value_16', 'B_Value_20', 'AB_Ratio_1', 'AB_Ratio_2',\n",
    "            'AB_Ratio_3', 'AB_Ratio_4', 'AB_Ratio_5', 'AB_Ratio_6', 'AB_Ratio_7', 'AB_Ratio_8', 'AB_Ratio_9',\n",
    "            'AB_Ratio_10', 'AB_Ratio_11', 'AB_Ratio_12', 'AB_Ratio_13', 'AB_Ratio_14', 'AB_Ratio_15', 'AB_Ratio_16',\n",
    "            'AB_Ratio_17', 'AB_Ratio_18', 'AB_Ratio_19', 'AB_Ratio_20']"
   ]
  },
  {
   "cell_type": "markdown",
   "metadata": {},
   "source": [
    "#### Remember to set `features_provided=True`!"
   ]
  },
  {
   "cell_type": "code",
   "execution_count": 14,
   "metadata": {},
   "outputs": [
    {
     "name": "stdout",
     "output_type": "stream",
     "text": [
      "Fitting 5 folds for each of 3 candidates, totalling 15 fits\n"
     ]
    },
    {
     "name": "stderr",
     "output_type": "stream",
     "text": [
      "[Parallel(n_jobs=1)]: Using backend SequentialBackend with 1 concurrent workers.\n",
      "[Parallel(n_jobs=1)]: Done  15 out of  15 | elapsed:   14.1s finished\n"
     ]
    },
    {
     "name": "stdout",
     "output_type": "stream",
     "text": [
      "Fitting complete!\n"
     ]
    }
   ],
   "source": [
    "model_w_features, scaler = msm.svm_model(df=df, model='svm_lin', features=feature_list, features_provided=True)"
   ]
  },
  {
   "cell_type": "code",
   "execution_count": 15,
   "metadata": {},
   "outputs": [
    {
     "name": "stdout",
     "output_type": "stream",
     "text": [
      "The best hyperparamers were {'C': 10.0}\n"
     ]
    }
   ],
   "source": [
    "print(\"The best hyperparamers were {}\".format(model_w_features.best_params_))"
   ]
  },
  {
   "cell_type": "code",
   "execution_count": 16,
   "metadata": {},
   "outputs": [
    {
     "name": "stdout",
     "output_type": "stream",
     "text": [
      "The best RMSE value was 0.049820446059445966\n"
     ]
    }
   ],
   "source": [
    "print(\"The best RMSE value was {}\".format(abs(model_w_features.best_score_)))"
   ]
  },
  {
   "cell_type": "markdown",
   "metadata": {},
   "source": [
    "### If another variable is of interest as the dependent variable for the model, that can also be selected. For example, percent depth could be used instead of depth."
   ]
  },
  {
   "cell_type": "code",
   "execution_count": 17,
   "metadata": {},
   "outputs": [
    {
     "name": "stdout",
     "output_type": "stream",
     "text": [
      "Fitting 5 folds for each of 3 candidates, totalling 15 fits\n"
     ]
    },
    {
     "name": "stderr",
     "output_type": "stream",
     "text": [
      "[Parallel(n_jobs=1)]: Using backend SequentialBackend with 1 concurrent workers.\n",
      "[Parallel(n_jobs=1)]: Done  15 out of  15 | elapsed:  1.1min finished\n"
     ]
    },
    {
     "name": "stdout",
     "output_type": "stream",
     "text": [
      "Fitting complete!\n"
     ]
    }
   ],
   "source": [
    "model_pct_depth, scaler_pct_depth = msm.svm_model(df=df, model='svm_lin', features=feature_list, features_provided=True, y='Pct_Depth')"
   ]
  },
  {
   "cell_type": "code",
   "execution_count": 18,
   "metadata": {},
   "outputs": [
    {
     "name": "stdout",
     "output_type": "stream",
     "text": [
      "The best hyperparamers were {'C': 1.0}\n"
     ]
    }
   ],
   "source": [
    "print(\"The best hyperparamers were {}\".format(model_pct_depth.best_params_))"
   ]
  },
  {
   "cell_type": "code",
   "execution_count": 19,
   "metadata": {},
   "outputs": [
    {
     "name": "stdout",
     "output_type": "stream",
     "text": [
      "The best RMSE value was 6.26938609336819\n"
     ]
    }
   ],
   "source": [
    "print(\"The best RMSE value was {}\".format(abs(model_pct_depth.best_score_)))"
   ]
  },
  {
   "cell_type": "markdown",
   "metadata": {},
   "source": [
    "### To use any of these models for predictions, you can use the `make_predictions_on_test` function, which takes a test data dataframe, scaler, feature list, and model as arguments."
   ]
  },
  {
   "cell_type": "markdown",
   "metadata": {},
   "source": [
    "### This function requires the features as a list; if you built a model using features simply as a list of prefixes (e.g., `features=['AB']`), you can get a full list by using the `get_feature_list` function, which requires a dataframe and your features as prefixes or simply by specifying *'all'*."
   ]
  },
  {
   "cell_type": "markdown",
   "metadata": {},
   "source": [
    "##### all AB features"
   ]
  },
  {
   "cell_type": "code",
   "execution_count": 20,
   "metadata": {},
   "outputs": [],
   "source": [
    "AB_features = msm.get_feature_list(feats=['AB'], df=df)"
   ]
  },
  {
   "cell_type": "code",
   "execution_count": 21,
   "metadata": {},
   "outputs": [
    {
     "data": {
      "text/plain": [
       "['AB_Ratio_1',\n",
       " 'AB_Ratio_2',\n",
       " 'AB_Ratio_3',\n",
       " 'AB_Ratio_4',\n",
       " 'AB_Ratio_5',\n",
       " 'AB_Ratio_6',\n",
       " 'AB_Ratio_7',\n",
       " 'AB_Ratio_8',\n",
       " 'AB_Ratio_9',\n",
       " 'AB_Ratio_10',\n",
       " 'AB_Ratio_11',\n",
       " 'AB_Ratio_12',\n",
       " 'AB_Ratio_13',\n",
       " 'AB_Ratio_14',\n",
       " 'AB_Ratio_15',\n",
       " 'AB_Ratio_16',\n",
       " 'AB_Ratio_17',\n",
       " 'AB_Ratio_18',\n",
       " 'AB_Ratio_19',\n",
       " 'AB_Ratio_20']"
      ]
     },
     "execution_count": 21,
     "metadata": {},
     "output_type": "execute_result"
    }
   ],
   "source": [
    "AB_features"
   ]
  },
  {
   "cell_type": "markdown",
   "metadata": {},
   "source": [
    "##### All features"
   ]
  },
  {
   "cell_type": "code",
   "execution_count": 22,
   "metadata": {},
   "outputs": [],
   "source": [
    "all_features = msm.get_feature_list(feats='all', df=df)"
   ]
  },
  {
   "cell_type": "code",
   "execution_count": 23,
   "metadata": {},
   "outputs": [
    {
     "data": {
      "text/plain": [
       "['Amp_1',\n",
       " 'Amp_2',\n",
       " 'Amp_3',\n",
       " 'Amp_4',\n",
       " 'Amp_5',\n",
       " 'Amp_6',\n",
       " 'Amp_7',\n",
       " 'Amp_8',\n",
       " 'Amp_9',\n",
       " 'Amp_10',\n",
       " 'Amp_11',\n",
       " 'Amp_12',\n",
       " 'Amp_13',\n",
       " 'Amp_14',\n",
       " 'Amp_15',\n",
       " 'Amp_16',\n",
       " 'Amp_17',\n",
       " 'Amp_18',\n",
       " 'Amp_19',\n",
       " 'Amp_20',\n",
       " 'Phase_1',\n",
       " 'Phase_2',\n",
       " 'Phase_3',\n",
       " 'Phase_4',\n",
       " 'Phase_5',\n",
       " 'Phase_6',\n",
       " 'Phase_7',\n",
       " 'Phase_8',\n",
       " 'Phase_9',\n",
       " 'Phase_10',\n",
       " 'Phase_11',\n",
       " 'Phase_12',\n",
       " 'Phase_13',\n",
       " 'Phase_14',\n",
       " 'Phase_15',\n",
       " 'Phase_16',\n",
       " 'Phase_17',\n",
       " 'Phase_18',\n",
       " 'Phase_19',\n",
       " 'Phase_20',\n",
       " 'A_Value_1',\n",
       " 'A_Value_2',\n",
       " 'A_Value_3',\n",
       " 'A_Value_4',\n",
       " 'A_Value_5',\n",
       " 'A_Value_6',\n",
       " 'A_Value_7',\n",
       " 'A_Value_8',\n",
       " 'A_Value_9',\n",
       " 'A_Value_10',\n",
       " 'A_Value_11',\n",
       " 'A_Value_12',\n",
       " 'A_Value_13',\n",
       " 'A_Value_14',\n",
       " 'A_Value_15',\n",
       " 'A_Value_16',\n",
       " 'A_Value_17',\n",
       " 'A_Value_18',\n",
       " 'A_Value_19',\n",
       " 'A_Value_20',\n",
       " 'B_Value_1',\n",
       " 'B_Value_2',\n",
       " 'B_Value_3',\n",
       " 'B_Value_4',\n",
       " 'B_Value_5',\n",
       " 'B_Value_6',\n",
       " 'B_Value_7',\n",
       " 'B_Value_8',\n",
       " 'B_Value_9',\n",
       " 'B_Value_10',\n",
       " 'B_Value_11',\n",
       " 'B_Value_12',\n",
       " 'B_Value_13',\n",
       " 'B_Value_14',\n",
       " 'B_Value_15',\n",
       " 'B_Value_16',\n",
       " 'B_Value_17',\n",
       " 'B_Value_18',\n",
       " 'B_Value_19',\n",
       " 'B_Value_20',\n",
       " 'AB_Ratio_1',\n",
       " 'AB_Ratio_2',\n",
       " 'AB_Ratio_3',\n",
       " 'AB_Ratio_4',\n",
       " 'AB_Ratio_5',\n",
       " 'AB_Ratio_6',\n",
       " 'AB_Ratio_7',\n",
       " 'AB_Ratio_8',\n",
       " 'AB_Ratio_9',\n",
       " 'AB_Ratio_10',\n",
       " 'AB_Ratio_11',\n",
       " 'AB_Ratio_12',\n",
       " 'AB_Ratio_13',\n",
       " 'AB_Ratio_14',\n",
       " 'AB_Ratio_15',\n",
       " 'AB_Ratio_16',\n",
       " 'AB_Ratio_17',\n",
       " 'AB_Ratio_18',\n",
       " 'AB_Ratio_19',\n",
       " 'AB_Ratio_20']"
      ]
     },
     "execution_count": 23,
     "metadata": {},
     "output_type": "execute_result"
    }
   ],
   "source": [
    "all_features"
   ]
  },
  {
   "cell_type": "markdown",
   "metadata": {},
   "source": [
    "### Also note that the data need to be scaled before any predictions can be made. The scaler is the second output of the `svm_model` function, and is used in `make_predictions_on_test`."
   ]
  },
  {
   "cell_type": "markdown",
   "metadata": {},
   "source": [
    "### Let's make predictions for the hold-out set data using the Pct_Depth linear SVM model."
   ]
  },
  {
   "cell_type": "code",
   "execution_count": 24,
   "metadata": {},
   "outputs": [],
   "source": [
    "test_data = pd.read_csv(os.path.join(os.path.dirname(os.getcwd()),'data','interim', 'full_feature_test_data.csv'))"
   ]
  },
  {
   "cell_type": "code",
   "execution_count": 25,
   "metadata": {},
   "outputs": [],
   "source": [
    "y_pred = msm.make_predictions_on_test(test_data, scaler_pct_depth, feature_list, model_pct_depth)"
   ]
  },
  {
   "cell_type": "code",
   "execution_count": 26,
   "metadata": {},
   "outputs": [
    {
     "data": {
      "text/plain": [
       "array([ 97.51116081,  51.85992351,  18.77678606,  81.22103548,\n",
       "        24.54162278,  72.75761092,  50.80852322,  32.94653143,\n",
       "        57.73985622, 103.70184532,  55.73729727,  19.49718895,\n",
       "        82.37510505,  29.03672756,  76.17466569,  50.81760467,\n",
       "        34.48040757,  59.81694934, 100.22991088,  53.04275728,\n",
       "        15.37465095,  84.75258588,  21.70587555,  69.8753622 ,\n",
       "        48.82267917,  35.8181494 ,  57.1907746 ,  95.08656482,\n",
       "        52.31684282,  19.47428177,  83.71796603,  21.79211948,\n",
       "        71.43679718,  50.33158531,  39.30363302,  60.54409507,\n",
       "        97.49790541,  78.93967895,  24.50707271,  58.82178414,\n",
       "        30.08781843,  73.39432502,  33.84538672,  57.26371057,\n",
       "        55.63807382, 101.86926768,  79.6579654 ,  26.92031197,\n",
       "        58.47138335,  31.34369996,  72.67674553,  33.48640171,\n",
       "        51.63729656,  56.73795606, 102.4840243 ,  79.62513402,\n",
       "        28.62998928,  55.25402093,  29.08647599,  74.10156977,\n",
       "        30.92957231,  57.63585664,  57.40013605,  97.40658516,\n",
       "        77.53775224,  27.52802415,  56.44140038,  28.32176605,\n",
       "        75.24178838,  33.38387765,  58.23062805,  56.82989707,\n",
       "        92.2714723 ,  29.38103847,  88.16182009,  16.57329609,\n",
       "        53.92639836,  49.74875117,  17.74513059,  50.94936927,\n",
       "        80.05611927, 103.62587937,  30.12756334,  89.76827396,\n",
       "        20.15369367,  40.73453872,  62.02910077,  19.45532119,\n",
       "        52.90126427,  77.29183329, 106.95522044,  29.91531661,\n",
       "        90.29604864,  17.59391247,  50.25667884,  56.82499623,\n",
       "        24.00070654,  55.05826379,  75.80047684, 102.44657614,\n",
       "        30.61944665,  89.86522019,  15.91342067,  52.48018959,\n",
       "        47.97937742,  20.22428734,  53.41074539,  79.62734005,\n",
       "        92.2800491 ,  16.97328281,  68.85073572,  21.80133202,\n",
       "        51.06098761,  36.12459753,  57.66963914,  21.09795735,\n",
       "       104.62573825, 101.05277564,  13.12470929,  74.55373066,\n",
       "        17.81528989,  50.75375808,  38.741709  ,  55.13498035,\n",
       "        20.80035681, 106.48344415, 106.61675869,  16.21291637,\n",
       "        74.93929124,  18.39863511,  52.49473457,  38.89172319,\n",
       "        50.17375779,  22.70379677,  99.86120068,  94.75797184,\n",
       "        16.42763481,  72.83297156,  19.85645356,  51.39330547,\n",
       "        38.75521831,  56.16875395,  23.78804911, 109.70866932])"
      ]
     },
     "execution_count": 26,
     "metadata": {},
     "output_type": "execute_result"
    }
   ],
   "source": [
    "y_pred"
   ]
  },
  {
   "cell_type": "markdown",
   "metadata": {},
   "source": [
    "### Finally, although this function is called 'svm_model', it can take model arguments for OLS linear regression (*'lin_reg'*), ridge regression (*'ridge'*), elastic nets (*'elastic'*), and lasso regression (*'lasso'*)."
   ]
  },
  {
   "cell_type": "markdown",
   "metadata": {},
   "source": [
    "### Here's a quick example for linear regression."
   ]
  },
  {
   "cell_type": "code",
   "execution_count": 27,
   "metadata": {},
   "outputs": [
    {
     "name": "stdout",
     "output_type": "stream",
     "text": [
      "Fitting 5 folds for each of 40 candidates, totalling 200 fits\n"
     ]
    },
    {
     "name": "stderr",
     "output_type": "stream",
     "text": [
      "[Parallel(n_jobs=1)]: Using backend SequentialBackend with 1 concurrent workers.\n"
     ]
    },
    {
     "name": "stdout",
     "output_type": "stream",
     "text": [
      "Fitting complete!\n"
     ]
    },
    {
     "name": "stderr",
     "output_type": "stream",
     "text": [
      "[Parallel(n_jobs=1)]: Done 200 out of 200 | elapsed:    5.9s finished\n"
     ]
    }
   ],
   "source": [
    "model, scaler = msm.svm_model(df=df, model='lin_reg', features='all')"
   ]
  },
  {
   "cell_type": "code",
   "execution_count": 28,
   "metadata": {},
   "outputs": [
    {
     "name": "stdout",
     "output_type": "stream",
     "text": [
      "The best hyperparamers were {'copy_X': True, 'fit_intercept': True, 'n_jobs': 1, 'normalize': False}\n"
     ]
    }
   ],
   "source": [
    "print(\"The best hyperparamers were {}\".format(model.best_params_))"
   ]
  },
  {
   "cell_type": "code",
   "execution_count": 29,
   "metadata": {},
   "outputs": [
    {
     "name": "stdout",
     "output_type": "stream",
     "text": [
      "The best RMSE value was 0.050194079813211966\n"
     ]
    }
   ],
   "source": [
    "print(\"The best RMSE value was {}\".format(abs(model.best_score_)))"
   ]
  }
 ],
 "metadata": {
  "kernelspec": {
   "display_name": "Python 3",
   "language": "python",
   "name": "python3"
  },
  "language_info": {
   "codemirror_mode": {
    "name": "ipython",
    "version": 3
   },
   "file_extension": ".py",
   "mimetype": "text/x-python",
   "name": "python",
   "nbconvert_exporter": "python",
   "pygments_lexer": "ipython3",
   "version": "3.7.6"
  }
 },
 "nbformat": 4,
 "nbformat_minor": 4
}
