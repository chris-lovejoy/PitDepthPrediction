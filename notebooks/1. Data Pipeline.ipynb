{
 "cells": [
  {
   "cell_type": "markdown",
   "metadata": {},
   "source": [
    "# Pipeline for turning loose csv files into a full data frame with features"
   ]
  },
  {
   "cell_type": "markdown",
   "metadata": {},
   "source": [
    "##### import statments"
   ]
  },
  {
   "cell_type": "code",
   "execution_count": null,
   "metadata": {},
   "outputs": [],
   "source": [
    "import os\n",
    "import pandas as pd\n",
    "import sys\n",
    "\n",
    "path = os.getcwd()\n",
    "new_path = (os.path.join(os.path.dirname(path), 'src'))\n",
    "sys.path.insert(0,new_path)\n",
    "\n",
    "from data.make_dataset import CompleteData\n",
    "from features.build_features import FeatureData"
   ]
  },
  {
   "cell_type": "markdown",
   "metadata": {},
   "source": [
    "### 1. To get a complete dataframe and csv file with all the information from your loose data files, you need to run the *CompleteData* class. This class takes a name argument, either *'filtered'* for files to be used in model building, or *'test'* for files to be used in model testing. \n",
    "\n",
    "### The filtered files should be placed in the `epri_Mar20/data/filtered` folder with the file names formatted as `Alias_SN_FlawID_Angle.csv` and a five-row header in the file listing the same information. The test files should be similar, though with the file name formatted as `ID_Serialnumber_filt.csv`, and placed in the `epri_Mar20/testdata/filtered` folder. \n",
    "\n",
    "### Run either cell below to make instantiations of the *CompleteData* class, which will also save the data as a csv in `epri_Mar20/data/complete_raw`. The data processing may take a few minutes; progress is indicated with a status bar."
   ]
  },
  {
   "cell_type": "code",
   "execution_count": null,
   "metadata": {},
   "outputs": [],
   "source": [
    "filtered = CompleteData('filtered')"
   ]
  },
  {
   "cell_type": "code",
   "execution_count": null,
   "metadata": {},
   "outputs": [],
   "source": [
    "test = CompleteData('test')"
   ]
  },
  {
   "cell_type": "markdown",
   "metadata": {},
   "source": [
    "#### 1.1. The classes also have four attributes: *.name*, *.path*, *.save_dir*, and *.full_data_frame*"
   ]
  },
  {
   "cell_type": "markdown",
   "metadata": {},
   "source": [
    "##### 1.1a. name is simply the name of the dataset"
   ]
  },
  {
   "cell_type": "code",
   "execution_count": null,
   "metadata": {},
   "outputs": [],
   "source": [
    "test.name"
   ]
  },
  {
   "cell_type": "markdown",
   "metadata": {},
   "source": [
    "##### 1.1b. path is the file path to the folder containing the loose csv files"
   ]
  },
  {
   "cell_type": "code",
   "execution_count": null,
   "metadata": {},
   "outputs": [],
   "source": [
    "test.path"
   ]
  },
  {
   "cell_type": "markdown",
   "metadata": {},
   "source": [
    "##### 1.1c. save_dir is the directory where the final csv file will be saved"
   ]
  },
  {
   "cell_type": "code",
   "execution_count": null,
   "metadata": {},
   "outputs": [],
   "source": [
    "test.save_dir"
   ]
  },
  {
   "cell_type": "markdown",
   "metadata": {},
   "source": [
    "##### 1.1d. full_data_frame allows you to interact with the full data set if you with to interact with the data right away; no need to reload the csv file."
   ]
  },
  {
   "cell_type": "code",
   "execution_count": null,
   "metadata": {},
   "outputs": [],
   "source": [
    "test.full_data_frame.head()"
   ]
  },
  {
   "cell_type": "markdown",
   "metadata": {},
   "source": [
    "### 2. Now you will need to create a dataframe with features. The *FeatureData* class creates a dataframe with *Tube_Alias*, *Flaw_ID*, and *Angle*; *Amplitude* and *Phase* for all channels (1-20); values *A* and *B* (the difference between the min and max values for real and imaginary components, respectively) and *AB_Ratio*, which is *A* divided by *B*; and flaw information, including *Flaw_Depth*, *Flaw_Area*, *Flaw_Volume* and *Pct_Depth*. \n",
    "\n",
    "### The *FeatureData* class also takes a name argument, either *'filtered'* or *'test'*. The final dataframe is saved in `epri_Mar20/data/interim` and can be accessed for later use. Run either cell below to create the feature data frames. As before, this may take a few minutes."
   ]
  },
  {
   "cell_type": "code",
   "execution_count": null,
   "metadata": {},
   "outputs": [],
   "source": [
    "filtered_features = FeatureData('filtered')"
   ]
  },
  {
   "cell_type": "code",
   "execution_count": null,
   "metadata": {},
   "outputs": [],
   "source": [
    "test_features = FeatureData('test')"
   ]
  },
  {
   "cell_type": "markdown",
   "metadata": {},
   "source": [
    "#### 2.1 Like the *CompleteData* class, the *FeatureData* class has four attributes: *.name*, *.path*, *.save_dir*, and *.full_feature_data*. Note that the columns will be different between the filtered data and test data because the test data lack tube information."
   ]
  },
  {
   "cell_type": "markdown",
   "metadata": {},
   "source": [
    "##### 2.1a. Dataframe for filtered data features"
   ]
  },
  {
   "cell_type": "code",
   "execution_count": null,
   "metadata": {},
   "outputs": [],
   "source": [
    "filtered_features.full_feature_data.head()"
   ]
  },
  {
   "cell_type": "markdown",
   "metadata": {},
   "source": [
    "##### 2.2b. List of columns for filtered feature data frame"
   ]
  },
  {
   "cell_type": "code",
   "execution_count": null,
   "metadata": {},
   "outputs": [],
   "source": [
    "filtered_features.full_feature_data.columns"
   ]
  },
  {
   "cell_type": "markdown",
   "metadata": {},
   "source": [
    "##### 2.1c. Dataframe for test data features"
   ]
  },
  {
   "cell_type": "code",
   "execution_count": null,
   "metadata": {},
   "outputs": [],
   "source": [
    "test_features.full_feature_data.head()"
   ]
  },
  {
   "cell_type": "markdown",
   "metadata": {},
   "source": [
    "##### 2.2d. List of columns for test feature data frame"
   ]
  },
  {
   "cell_type": "code",
   "execution_count": null,
   "metadata": {},
   "outputs": [],
   "source": [
    "test_features.full_feature_data.columns"
   ]
  }
 ],
 "metadata": {
  "kernelspec": {
   "display_name": "Python 3",
   "language": "python",
   "name": "python3"
  },
  "language_info": {
   "codemirror_mode": {
    "name": "ipython",
    "version": 3
   },
   "file_extension": ".py",
   "mimetype": "text/x-python",
   "name": "python",
   "nbconvert_exporter": "python",
   "pygments_lexer": "ipython3",
   "version": "3.7.6"
  }
 },
 "nbformat": 4,
 "nbformat_minor": 4
}
