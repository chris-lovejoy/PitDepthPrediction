{
 "cells": [
  {
   "cell_type": "code",
   "execution_count": 7,
   "metadata": {},
   "outputs": [],
   "source": [
    "# Import neccesary libaries\n",
    "import math\n",
    "import pandas as pd\n",
    "import numpy as np\n",
    "import matplotlib.pyplot as plt\n",
    "import sys\n",
    "import os\n",
    "import sklearn\n",
    "from sklearn.preprocessing import StandardScaler\n",
    "from sklearn.linear_model import LinearRegression\n",
    "from sklearn.model_selection import cross_val_score, RandomizedSearchCV\n",
    "sys.path.insert(0,os.path.dirname(os.getcwd()))\n",
    "import src.models.modeling_pipeline as mp\n",
    "import src.models.train_model as tm\n",
    "from sklearn.ensemble import RandomForestClassifier\n",
    "\n",
    "from sklearn.linear_model import LogisticRegression\n",
    "from sklearn.svm import SVC, LinearSVC\n",
    "from sklearn.neighbors import KNeighborsClassifier\n",
    "from sklearn.tree import DecisionTreeClassifier\n",
    "from sklearn.ensemble import RandomForestClassifier\n",
    "from sklearn.naive_bayes import GaussianNB\n",
    "from sklearn.neural_network import MLPClassifier\n",
    "\n",
    "from sklearn.metrics import mean_squared_error"
   ]
  },
  {
   "cell_type": "code",
   "execution_count": 87,
   "metadata": {},
   "outputs": [
    {
     "name": "stdout",
     "output_type": "stream",
     "text": [
      "There are 684 examples of through hole flaws in the data\n"
     ]
    }
   ],
   "source": [
    "# Import dataframe to work with\n",
    "filename = os.path.join(os.path.dirname(os.getcwd()), 'data','interim','full_feature_data.csv')\n",
    "df = pd.read_csv(filename)\n",
    "\n",
    "no_hole_df = df[df.Flaw_Depth < 0.7]\n",
    "# Generate group labels by tube/defect pair\n",
    "groups_labels = tm.generate_groups(df)\n",
    "\n",
    "# Generate list of features to be trained\n",
    "feature_list = mp.find_features(df, ['Amp','Phase','AB','A_','B_'])\n",
    "\n",
    "df['Through_Hole'] = 0.0\n",
    "df.loc[(df['Flaw_Depth']>0.7),'Through_Hole'] =1\n",
    "\n",
    "# And column for small pits\n",
    "df[\"Small_pit\"] = df['Flaw_ID']\n",
    "df[\"Small_pit\"] = df[\"Small_pit\"].map({'A':1,'B':0,'C':0,'D':0,'E':0,'F':0,'G':0,'H':0,'I':0})\n",
    "\n",
    "num_through_in_sample = len(df[df['Through_Hole']==1])\n",
    "print(\"There are\", num_through_in_sample, \"examples of through hole flaws in the data\")\n",
    "\n",
    "#the data without through holes\n",
    "no_hole_df = df[df.Flaw_Depth < 0.7]\n",
    "no_hole_df = no_hole_df.reset_index()\n",
    "hole_df = df[df.Flaw_Depth > 0.7]\n",
    "hole_df = hole_df.reset_index()\n",
    "\n",
    "\n",
    "scaler = StandardScaler()\n",
    "input_features = scaler.fit_transform(df[feature_list])\n",
    "output_features = df[['Through_Hole', 'Small_pit']]\n",
    "\n",
    "X_train, X_test, y_train, y_test = mp.train_test_split(input_features, output_features, test_size = 0.2)"
   ]
  },
  {
   "cell_type": "markdown",
   "metadata": {},
   "source": [
    "### Cross-validation scoring of different classifier models\n",
    "\n",
    "Performs K-fold cross validation rather than train-test split. Takes in \"input_features\" and \"output_features\" , before they have been split into X_train, y_train, etc"
   ]
  },
  {
   "cell_type": "code",
   "execution_count": 24,
   "metadata": {},
   "outputs": [],
   "source": [
    "target_column_full = ['Through_Hole']\n",
    "target_column_small = ['Small_pit']"
   ]
  },
  {
   "cell_type": "code",
   "execution_count": 25,
   "metadata": {},
   "outputs": [],
   "source": [
    "\n",
    "models = []\n",
    "\n",
    "models.append((\"KNeighbors\",KNeighborsClassifier()))\n",
    "models.append((\"DecisionTree\",DecisionTreeClassifier()))\n",
    "models.append((\"RandomForest\",RandomForestClassifier()))\n",
    "rf2 = RandomForestClassifier(n_estimators=100, criterion='gini',\n",
    "                                max_depth=10, random_state=0, max_features=None)\n",
    "models.append((\"RandomForest2\",rf2))\n",
    "models.append((\"MLPClassifier\",MLPClassifier(solver='lbfgs', random_state=0)))"
   ]
  },
  {
   "cell_type": "code",
   "execution_count": 20,
   "metadata": {},
   "outputs": [
    {
     "name": "stdout",
     "output_type": "stream",
     "text": [
      "KNeighbors 0.9858957686728047\n",
      "DecisionTree 0.9816445014709367\n",
      "RandomForest 0.9857236777463747\n",
      "RandomForest2 0.9836850288118646\n",
      "MLPClassifier 0.991332454817101\n"
     ]
    }
   ],
   "source": [
    "results = []\n",
    "names = []\n",
    "for name,model in models:\n",
    "    result = cross_val_score(model, input_features, output_features['Through_Hole'], cv=5)\n",
    "#     result = cross_val_score(model, X_train, y_train.to_numpy()[:,0],  cv=3)\n",
    "    names.append(name)\n",
    "    results.append(result)\n",
    "\n",
    "for i in range(len(names)):\n",
    "    print(names[i],results[i].mean())"
   ]
  },
  {
   "cell_type": "markdown",
   "metadata": {},
   "source": [
    "#### and for small pits"
   ]
  },
  {
   "cell_type": "code",
   "execution_count": 26,
   "metadata": {},
   "outputs": [
    {
     "name": "stdout",
     "output_type": "stream",
     "text": [
      "KNeighbors 0.9416996110253788\n",
      "DecisionTree 0.9461180563984302\n",
      "RandomForest 0.9508796721747321\n",
      "RandomForest2 0.9442483195487201\n",
      "MLPClassifier 0.9398279957692507\n"
     ]
    }
   ],
   "source": [
    "results = []\n",
    "names = []\n",
    "for name,model in models:\n",
    "    result = cross_val_score(model, input_features, output_features['Small_pit'], cv=5)\n",
    "#     result = cross_val_score(model, X_train, y_train.to_numpy()[:,0],  cv=3)\n",
    "    names.append(name)\n",
    "    results.append(result)\n",
    "\n",
    "for i in range(len(names)):\n",
    "    print(names[i],results[i].mean())"
   ]
  },
  {
   "cell_type": "markdown",
   "metadata": {},
   "source": [
    "### Training of a model using cross-validation that classifies through holes."
   ]
  },
  {
   "cell_type": "code",
   "execution_count": 28,
   "metadata": {},
   "outputs": [
    {
     "name": "stdout",
     "output_type": "stream",
     "text": [
      "Fitting 5 folds for each of 20 candidates, totalling 100 fits\n"
     ]
    },
    {
     "name": "stderr",
     "output_type": "stream",
     "text": [
      "[Parallel(n_jobs=-1)]: Using backend LokyBackend with 8 concurrent workers.\n",
      "[Parallel(n_jobs=-1)]: Done  25 tasks      | elapsed:    4.3s\n",
      "[Parallel(n_jobs=-1)]: Done 100 out of 100 | elapsed:    8.6s finished\n"
     ]
    },
    {
     "name": "stdout",
     "output_type": "stream",
     "text": [
      "Training accuracy:100.0\n",
      "CV accuracy:0.9856980329620704\n",
      "Random Search parameters: {'n_estimators': 27, 'min_samples_split': 10, 'min_samples_leaf': 4, 'max_features': 'sqrt', 'max_depth': 15, 'bootstrap': True}\n"
     ]
    }
   ],
   "source": [
    "\n",
    "def rf_randomsearch_params(df, feature_list, y_feature, n_runs, no_folds):\n",
    "    '''\n",
    "    Use RandomSearchCV to go through a list of parameter combinations for RandomForest and return \n",
    "    a model trained on the best determined parameters along with the list of best parameters\n",
    "    feature_list is a list of features\n",
    "    y_feature is a string\n",
    "    n_runs is an integer which determines how many iterations RandomSearch goes through before arriving at an answer\n",
    "    no_folds is the number of k-folds for cv\n",
    "    '''\n",
    "    \n",
    "    # A grid of parameters to search through\n",
    "    n_estimators = [int(x) for x in np.linspace(start = 5, stop = 50, num = 5)]\n",
    "    min_samples_leaf = [2,5,10]\n",
    "    max_depth = [1,3,5,10,15]\n",
    "    bootstrap = [True, False]\n",
    "    min_samples_split = [2,5,10]\n",
    "    min_samples_leaf = [1,2,4]\n",
    "    max_features = ['auto', 'sqrt']\n",
    "    random_grid = {\n",
    "                   'n_estimators': n_estimators,\n",
    "                   'min_samples_leaf': min_samples_leaf,\n",
    "                    'max_depth' : max_depth,\n",
    "        'bootstrap':bootstrap,\n",
    "        'min_samples_split':min_samples_split,\n",
    "        'max_features':max_features\n",
    "                        }\n",
    "    \n",
    "\n",
    "    rf = RandomForestClassifier()\n",
    "    # Generate object for group k-folding\n",
    "    gkf = tm.generate_groupcv_object(df[feature_list], df[y_feature], groups_labels, no_folds )\n",
    "    \n",
    "    # Search best cv score across different combinations using random search and use all available cores.\n",
    "    rf_random = RandomizedSearchCV(estimator = rf, param_distributions = random_grid, n_iter = n_runs, cv = gkf, random_state=42, n_jobs = -1, verbose=2)\n",
    "    rf_random.fit(df[feature_list], df[y_feature])\n",
    "\n",
    "    gkf = tm.generate_groupcv_object(df[feature_list], df[y_feature], groups_labels, no_folds )\n",
    "    \n",
    "    # Get best parameters\n",
    "    rf_params = rf_random.best_params_\n",
    "    rf = RandomForestClassifier()\n",
    "    rf.set_params(**rf_params)\n",
    "    scores = cross_val_score(rf, df[feature_list], df[y_feature], cv = gkf, scoring='accuracy')\n",
    "    \n",
    "    rf = RandomForestClassifier()\n",
    "    rf.set_params(**rf_params) \n",
    "    rf.fit(df[feature_list], df[y_feature])\n",
    "    # Best parameter accuracy on training set\n",
    "    train_accuracy = 1-abs(rf.predict(df[feature_list])- df[y_feature]).mean()\n",
    "    print('Training accuracy:' + str(train_accuracy*100))\n",
    "    # Best parameter accuracy on cv set\n",
    "    print('CV accuracy:' + str(scores.mean()))\n",
    "    \n",
    "    return rf, rf_params\n",
    "\n",
    "[rf, rf_params] = rf_randomsearch_params(df, feature_list, 'Through_Hole', 20, 5)\n",
    "print('Random Search parameters:', rf_params)"
   ]
  },
  {
   "cell_type": "markdown",
   "metadata": {},
   "source": [
    "### Step 2 : Training of a regression model for depth on flaws that are not through holes"
   ]
  },
  {
   "cell_type": "code",
   "execution_count": 29,
   "metadata": {},
   "outputs": [
    {
     "name": "stdout",
     "output_type": "stream",
     "text": [
      "Lasso optimization results : Compression = 37.64% , alpha : 5.0077614449251955e-06, CV RMSE : 0.04586\n",
      "Elastic Nets optimization results : Compression = 16.79% alpha : 1.2030450307903726e-06, CV RMSE 0.04582\n",
      "0.04525134667465252\n"
     ]
    }
   ],
   "source": [
    "no_folds = 5\n",
    "y_feature = 'Flaw_Depth'\n",
    "groups_labels_nohole = tm.generate_groups(no_hole_df)\n",
    "\n",
    "# Train lasso and elastic nets\n",
    "[model_lasso, model_elasticnets, coef_lasso, coef_elasticnets] = tm.lasso_elasticnets_groupcv(no_hole_df, feature_list, y_feature, groups_labels_nohole, no_folds)\n",
    "\n",
    "#Get coefficients of lasso that are non-zero and greater than 0.000\n",
    "reduced_list = (coef_lasso.index[abs(coef_lasso['Coefficients']) >0.000].tolist())\n",
    "\n",
    "#Remove interept coefficient\n",
    "reduced_list = reduced_list[:-1]\n",
    "\n",
    "# Generate object for doing group k-folding for cross-validation\n",
    "gkf_nohole = tm.generate_groupcv_object(no_hole_df[reduced_list], no_hole_df[y_feature], groups_labels_nohole , no_folds)\n",
    "\n",
    "# Perform cross-validation on linear model\n",
    "ols2 = LinearRegression()\n",
    "ols_cv_mse = cross_val_score(ols2, no_hole_df[reduced_list], no_hole_df[y_feature], scoring='neg_mean_squared_error', cv=gkf_nohole)\n",
    "\n",
    "# Average the MSE for different k-folds and convert into RMSE\n",
    "ols_cv_rmse = np.sqrt(abs(ols_cv_mse).mean())\n",
    "print(ols_cv_rmse)"
   ]
  },
  {
   "cell_type": "code",
   "execution_count": 30,
   "metadata": {},
   "outputs": [
    {
     "data": {
      "text/plain": [
       "LinearRegression(copy_X=True, fit_intercept=True, n_jobs=None, normalize=False)"
      ]
     },
     "execution_count": 30,
     "metadata": {},
     "output_type": "execute_result"
    }
   ],
   "source": [
    "ols2.fit(no_hole_df[reduced_list],no_hole_df[y_feature])"
   ]
  },
  {
   "cell_type": "markdown",
   "metadata": {},
   "source": [
    "\n",
    "### Step 3 : Combine regression model for depth and classification model for through-holes to get the final RMSE"
   ]
  },
  {
   "cell_type": "code",
   "execution_count": 31,
   "metadata": {},
   "outputs": [],
   "source": [
    "def predict_regclas_model(df, feature_reg, feature_clas, reg_model, clas_model, tube_thickness=0.737):\n",
    "    thru_hole = clas_model.predict(df[feature_clas])\n",
    "    indx_thru_hole = [i for i, x in enumerate(thru_hole) if x ==1]\n",
    "    # Fill predicted through holes with tube depth\n",
    "   \n",
    "    reg_prediction = reg_model.predict(df[feature_reg])\n",
    "    predictions = reg_prediction\n",
    "    for i in indx_thru_hole:\n",
    "        predictions[i] = tube_thickness\n",
    "    return predictions\n"
   ]
  },
  {
   "cell_type": "code",
   "execution_count": 32,
   "metadata": {},
   "outputs": [
    {
     "name": "stdout",
     "output_type": "stream",
     "text": [
      "RMSE using combined model on all data:  0.04015457432307205\n"
     ]
    }
   ],
   "source": [
    "predictions = predict_regclas_model(df, reduced_list, feature_list, ols2, rf)\n",
    "RMSE = np.sqrt(mean_squared_error(predictions, df[y_feature]))\n",
    "print('RMSE using combined model on all data: ', RMSE)"
   ]
  },
  {
   "cell_type": "markdown",
   "metadata": {},
   "source": [
    "### Visualisations"
   ]
  },
  {
   "cell_type": "code",
   "execution_count": 72,
   "metadata": {},
   "outputs": [],
   "source": [
    "pred=predictions.reshape(-1,1)\n",
    "actual=df['Flaw_Depth'].to_numpy()\n",
    "actual=actual.reshape(-1,1)\n",
    "actual_and_pred = np.concatenate((actual,pred),axis=1)"
   ]
  },
  {
   "cell_type": "code",
   "execution_count": 86,
   "metadata": {},
   "outputs": [
    {
     "data": {
      "image/png": "[encoded data removed]",
      "text/plain": [
       "<Figure size 720x504 with 1 Axes>"
      ]
     },
     "metadata": {
      "needs_background": "light"
     },
     "output_type": "display_data"
    },
    {
     "data": {
      "image/png": "[encoded data removed]",
      "text/plain": [
       "<Figure size 720x360 with 1 Axes>"
      ]
     },
     "metadata": {
      "needs_background": "light"
     },
     "output_type": "display_data"
    }
   ],
   "source": [
    "df1 = pd.DataFrame(actual_and_pred).head(20)\n",
    "\n",
    "df1.plot(kind='bar',figsize=(10,7))\n",
    "plt.grid(which='major', linestyle='-', linewidth='0.5', color='green')\n",
    "plt.grid(which='minor', linestyle=':', linewidth='0.5', color='black')\n",
    "plt.show()\n",
    "\n",
    "fig, ax = plt.subplots(nrows=1, ncols=1,figsize=(10,5))\n",
    "\n",
    "ax.plot([y_test.min(),y_test.max()],\n",
    "        [y_test.min(), y_test.max()],\n",
    "        '--r', linewidth=2)\n",
    "\n",
    "ax.scatter(df[y_feature], predictions, color='black', alpha=0.5)\n",
    "\n",
    "ax.set_xlabel('Measured')\n",
    "ax.set_ylabel('Predicted')\n",
    "\n",
    "plt.show()"
   ]
  },
  {
   "cell_type": "code",
   "execution_count": null,
   "metadata": {},
   "outputs": [],
   "source": [
    "The bar chart illustrates clearly the overestimation of the small plots"
   ]
  },
  {
   "cell_type": "markdown",
   "metadata": {},
   "source": [
    "### Step 4 : Generate list of predictions on the test data"
   ]
  },
  {
   "cell_type": "code",
   "execution_count": 11,
   "metadata": {},
   "outputs": [],
   "source": [
    "filename = os.path.join(os.path.dirname(os.getcwd()), 'data','interim','full_feature_test_data.csv')\n",
    "test_df = pd.read_csv(filename)\n",
    "test_predictions = predict_regclas_model(test_df, reduced_list, feature_list,ols2, rf)"
   ]
  },
  {
   "cell_type": "code",
   "execution_count": 12,
   "metadata": {},
   "outputs": [],
   "source": [
    "pd.DataFrame(test_predictions).to_csv('predictions.csv')"
   ]
  },
  {
   "cell_type": "code",
   "execution_count": null,
   "metadata": {},
   "outputs": [],
   "source": []
  }
 ],
 "metadata": {
  "kernelspec": {
   "display_name": "Python 3",
   "language": "python",
   "name": "python3"
  },
  "language_info": {
   "codemirror_mode": {
    "name": "ipython",
    "version": 3
   },
   "file_extension": ".py",
   "mimetype": "text/x-python",
   "name": "python",
   "nbconvert_exporter": "python",
   "pygments_lexer": "ipython3",
   "version": "3.7.4"
  }
 },
 "nbformat": 4,
 "nbformat_minor": 2
}
